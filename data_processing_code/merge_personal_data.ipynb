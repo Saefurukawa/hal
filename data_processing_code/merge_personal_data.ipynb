{
 "cells": [
  {
   "cell_type": "code",
   "execution_count": 8,
   "metadata": {},
   "outputs": [],
   "source": [
    "import pandas as pd\n",
    "from functools import reduce\n",
    "\n",
    "ntlx = pd.read_csv(\"../data/personal_data/NTLX.csv\")\n",
    "ospan = pd.read_csv(\"../data/personal_data/ospan_scores.csv\")"
   ]
  },
  {
   "cell_type": "code",
   "execution_count": 11,
   "metadata": {},
   "outputs": [],
   "source": [
    "# List of DataFrames to merge\n",
    "dataframes = [ntlx, ospan]\n",
    "\n",
    "# Perform the merge on common columns\n",
    "merged_df = reduce(lambda left, right: pd.merge(left, right, on=[ \"Respondent Name\"], how='outer'), dataframes)\n",
    "\n",
    "respondents_to_remove = [20018, 20019, 20040]  # List of respondent names to drop\n",
    "\n",
    "merged_df = merged_df[~merged_df[\"Respondent Name\"].isin(respondents_to_remove)]\n",
    "\n",
    "\n",
    "# Save the merged DataFrame to a new CSV file\n",
    "merged_df.to_csv('personal_data_merged.csv', index=False)"
   ]
  },
  {
   "cell_type": "code",
   "execution_count": null,
   "metadata": {},
   "outputs": [],
   "source": []
  }
 ],
 "metadata": {
  "kernelspec": {
   "display_name": "pai",
   "language": "python",
   "name": "python3"
  },
  "language_info": {
   "codemirror_mode": {
    "name": "ipython",
    "version": 3
   },
   "file_extension": ".py",
   "mimetype": "text/x-python",
   "name": "python",
   "nbconvert_exporter": "python",
   "pygments_lexer": "ipython3",
   "version": "3.10.15 (main, Oct  3 2024, 02:33:33) [Clang 14.0.6 ]"
  },
  "orig_nbformat": 4,
  "vscode": {
   "interpreter": {
    "hash": "2c229cd6ff87d19ea7d47541bfa1b62a250f965db58eb2430f02bd66bc83489c"
   }
  }
 },
 "nbformat": 4,
 "nbformat_minor": 2
}
