{
 "cells": [
  {
   "cell_type": "code",
   "execution_count": 1,
   "metadata": {},
   "outputs": [],
   "source": [
    "import pandas as pd\n",
    "from statsmodels.multivariate.manova import MANOVA"
   ]
  },
  {
   "cell_type": "code",
   "execution_count": 34,
   "metadata": {},
   "outputs": [
    {
     "name": "stdout",
     "output_type": "stream",
     "text": [
      "hit     1584\n",
      "miss     477\n",
      "Name: Label, dtype: int64\n"
     ]
    }
   ],
   "source": [
    "distance_df = pd.read_csv(\"../data/finalized_data/combined_distance_table.csv\")\n",
    "distance_df['Label'] = distance_df['Label'].str.lower()\n",
    "distance_df['Label'] = distance_df['Label'].apply(\n",
    "    lambda x: 'hit' if 'hit' in x else ('miss' if 'miss' in x else None)\n",
    ")\n",
    "unique_aoi_counts = distance_df['Label'].value_counts()\n",
    "\n",
    "print(unique_aoi_counts)\n"
   ]
  },
  {
   "cell_type": "code",
   "execution_count": 3,
   "metadata": {},
   "outputs": [
    {
     "name": "stdout",
     "output_type": "stream",
     "text": [
      "Index(['Respondent Name', 'AOI Label', 'Study Name', 'Saccade Duration Mean',\n",
      "       'Saccade Duration Std', 'Saccade Duration Median',\n",
      "       'Saccade Amplitude Mean', 'Saccade Amplitude Std',\n",
      "       'Saccade Amplitude Median', 'Saccade Peak Velocity Mean',\n",
      "       'Saccade Peak Velocity Std', 'Saccade Peak Velocity Median',\n",
      "       'Saccade Peak Acceleration Mean', 'Saccade Peak Acceleration Std',\n",
      "       'Saccade Peak Acceleration Median', 'Saccade Peak Deceleration Mean',\n",
      "       'Saccade Peak Deceleration Std', 'Saccade Peak Deceleration Median',\n",
      "       'Saccade Count'],\n",
      "      dtype='object')\n",
      "2061\n",
      "2061\n",
      "hit     1584\n",
      "miss     477\n",
      "Name: Label, dtype: int64\n"
     ]
    }
   ],
   "source": [
    "# Load your CSV data into a pandas DataFrame\n",
    "# df_fixation = pd.read_csv('data/finalized_data/fixation_aoi.csv')\n",
    "# df = pd.read_csv('merged_data.csv')\n",
    "df_saccade = pd.read_csv(\"../data/finalized_data/saccade_filled/saccade_final_3seconds_2.csv\")\n",
    "\n",
    "# print(df.columns)\n",
    "print(df_saccade.columns)\n",
    "# print(df_fixation.columns)\n",
    "\n",
    "# Convert 'AOI Label' to lowercase for consistent case-insensitive comparison\n",
    "df_saccade['Label'] = df_saccade['AOI Label'].str.lower()\n",
    "# df['Label'] = df['Label'].str.lower()\n",
    "\n",
    "# print(len(df))\n",
    "print(len(df_saccade))\n",
    "\n",
    "# Ensure consistent column names for comparison\n",
    "columns_to_check = [\"Respondent Name\", \"Study Name\", \"Label\"]\n",
    "\n",
    "# # Filter rows in df_saccade that do not exist in df based on the specified columns\n",
    "# difference_rows = df_saccade.loc[~df_saccade[columns_to_check].apply(tuple, axis=1).isin(df[columns_to_check].apply(tuple, axis=1))]\n",
    "# difference_rows_filtered = difference_rows[~difference_rows[\"Label\"].str.contains(\"base\", case=False, na=False)]\n",
    "\n",
    "# # Save the resulting rows to a CSV file\n",
    "# difference_rows_filtered.to_csv(\"non_matching_rows_by_columns.csv\", index=False)\n",
    "\n",
    "# print(f\"Number of non-matching rows: {len(difference_rows)}\")\n",
    "\n",
    "# Apply transformation to the 'AOI Label' column\n",
    "\n",
    "# Convert 'AOI Label' to lowercase for consistent case-insensitive comparison\n",
    "df_saccade['Label'] = df_saccade['Label'].str.lower()\n",
    "# df['Label'] = df['Label'].str.lower()\n",
    "# # df_fixation['Label'] = df_fixation['Label'].str.lower()\n",
    "\n",
    "df_saccade['Label'] = df_saccade['Label'].apply(\n",
    "    lambda x: 'hit' if 'hit' in x else ('miss' if 'miss' in x else None)\n",
    ")\n",
    "\n",
    "# df['Label'] = df['Label'].apply(\n",
    "#     lambda x: 'hit' if 'hit' in x else ('miss' if 'miss' in x else None)\n",
    "# )\n",
    "\n",
    "# df_fixation['Label'] = df_fixation['Label'].apply(\n",
    "#     lambda x: 'hit' if 'hit' in x else ('miss' if 'miss' in x else None)\n",
    "# )\n",
    "\n",
    "# Drop rows where 'AOI Label' is None (does not contain 'hit' or 'miss')\n",
    "df_saccade_filtered = df_saccade.dropna(subset=['Label'])\n",
    "# df_filtered = df.dropna(subset=[\"Label\"])\n",
    "# df_fixation_filtered = df_fixation.dropna(subset=[\"Label\"])\n",
    "\n",
    "# Check the filtered DataFrame\n",
    "# print(len(df_filtered))\n",
    "print( len(df_saccade_filtered))\n",
    "# print(len(df_fixation_filtered))\n",
    "# Check unique values in 'AOI Label' to debug\n",
    "unique_aoi_counts = df_saccade_filtered['Label'].value_counts()\n",
    "print(unique_aoi_counts)\n",
    "\n",
    "# print(\"Unique AOI Labels:\", df_filtered['Label'].unique())\n",
    "# print(\"Unique AOI Labels:\", df_fixation_filtered['Label'].unique())\n",
    "\n",
    "\n",
    "\n",
    "\n"
   ]
  },
  {
   "cell_type": "code",
   "execution_count": 25,
   "metadata": {},
   "outputs": [
    {
     "name": "stdout",
     "output_type": "stream",
     "text": [
      "Number of missing pairs: 4\n",
      "Missing pairs:\n",
      "(20016, 'Bridge 2')\n",
      "(20009, 'Bridge 1')\n",
      "(20033, 'Bridge 2')\n",
      "(20025, 'Bridge 2')\n",
      "Number of missing pairs: 0\n",
      "Missing pairs:\n",
      "Number of rows with missing pairs: 46\n"
     ]
    }
   ],
   "source": [
    "# # Create sets of (Respondent Name, Study Name) pairs from both dataframes\n",
    "# pairs_df = set(zip(df_filtered['Respondent Name'], df_filtered['Study Name']))\n",
    "# pairs_saccade = set(zip(df_saccade['Respondent Name'], df_saccade['Study Name']))\n",
    "\n",
    "# # Find pairs in df_saccade that do not exist in df\n",
    "# missing_pairs = pairs_saccade - pairs_df\n",
    "# missing_pairs_2 = pairs_df - pairs_saccade\n",
    "\n",
    "# # Print the missing pairs\n",
    "# print(\"Number of missing pairs:\", len(missing_pairs))\n",
    "# print(\"Missing pairs:\")\n",
    "# for pair in missing_pairs:\n",
    "#     print(pair)\n",
    "\n",
    "# print(\"Number of missing pairs:\", len(missing_pairs_2))\n",
    "# print(\"Missing pairs:\")\n",
    "# for pair in missing_pairs_2:\n",
    "#     print(pair)\n",
    "\n",
    "# # Step 4: Filter rows in df_saccade with missing pairs\n",
    "# missing_rows = df_saccade[df_saccade[[\"Respondent Name\", \"Study Name\"]]\n",
    "#                           .apply(tuple, axis=1)\n",
    "#                           .isin(missing_pairs)]\n",
    "\n",
    "# # Step 5: Count the number of rows\n",
    "# missing_row_count = len(missing_rows)\n",
    "\n",
    "# print(f\"Number of rows with missing pairs: {missing_row_count}\")"
   ]
  },
  {
   "cell_type": "code",
   "execution_count": 24,
   "metadata": {},
   "outputs": [
    {
     "name": "stdout",
     "output_type": "stream",
     "text": [
      "                                Saccade Amplitude Mean  \\\n",
      "Saccade Amplitude Mean                        1.000000   \n",
      "Saccade Peak Velocity Mean                    0.723738   \n",
      "Saccade Peak Acceleration Mean                0.632107   \n",
      "Saccade Peak Deceleration Mean               -0.626850   \n",
      "Saccade Count                                -0.327519   \n",
      "\n",
      "                                Saccade Peak Velocity Mean  \\\n",
      "Saccade Amplitude Mean                            0.723738   \n",
      "Saccade Peak Velocity Mean                        1.000000   \n",
      "Saccade Peak Acceleration Mean                    0.904692   \n",
      "Saccade Peak Deceleration Mean                   -0.571499   \n",
      "Saccade Count                                    -0.335812   \n",
      "\n",
      "                                Saccade Peak Acceleration Mean  \\\n",
      "Saccade Amplitude Mean                                0.632107   \n",
      "Saccade Peak Velocity Mean                            0.904692   \n",
      "Saccade Peak Acceleration Mean                        1.000000   \n",
      "Saccade Peak Deceleration Mean                       -0.527332   \n",
      "Saccade Count                                        -0.294059   \n",
      "\n",
      "                                Saccade Peak Deceleration Mean  Saccade Count  \n",
      "Saccade Amplitude Mean                               -0.626850      -0.327519  \n",
      "Saccade Peak Velocity Mean                           -0.571499      -0.335812  \n",
      "Saccade Peak Acceleration Mean                       -0.527332      -0.294059  \n",
      "Saccade Peak Deceleration Mean                        1.000000       0.220552  \n",
      "Saccade Count                                         0.220552       1.000000  \n"
     ]
    }
   ],
   "source": [
    "print(df_saccade[['Saccade Amplitude Mean', 'Saccade Peak Velocity Mean', \n",
    "          'Saccade Peak Acceleration Mean', 'Saccade Peak Deceleration Mean', \"Saccade Count\"]].corr())\n"
   ]
  },
  {
   "cell_type": "code",
   "execution_count": 25,
   "metadata": {},
   "outputs": [
    {
     "name": "stdout",
     "output_type": "stream",
     "text": [
      "       Saccade Amplitude Mean  Saccade Count\n",
      "count             1507.000000    2061.000000\n",
      "mean                 0.115910       8.000728\n",
      "std                  0.615589       7.984914\n",
      "min                 -1.033712       0.000000\n",
      "25%                 -0.286757       0.000000\n",
      "50%                 -0.023590       6.500000\n",
      "75%                  0.352527      13.000000\n",
      "max                  3.492421      51.000000\n"
     ]
    }
   ],
   "source": [
    "# Check for zero variance in each dependent variable\n",
    "print(df_saccade[['Saccade Amplitude Mean', 'Saccade Count']].describe())"
   ]
  },
  {
   "cell_type": "code",
   "execution_count": 26,
   "metadata": {},
   "outputs": [
    {
     "name": "stdout",
     "output_type": "stream",
     "text": [
      "       Saccade Amplitude Mean  Saccade Count\n",
      "count             1507.000000    2061.000000\n",
      "mean                 0.115910       8.000728\n",
      "std                  0.615589       7.984914\n",
      "min                 -1.033712       0.000000\n",
      "25%                 -0.286757       0.000000\n",
      "50%                 -0.023590       6.500000\n",
      "75%                  0.352527      13.000000\n",
      "max                  3.492421      51.000000\n"
     ]
    }
   ],
   "source": [
    "\n",
    "# Check for zero variance in each dependent variable\n",
    "print(df_saccade[['Saccade Amplitude Mean', 'Saccade Count']].describe())"
   ]
  },
  {
   "cell_type": "code",
   "execution_count": 4,
   "metadata": {},
   "outputs": [
    {
     "name": "stdout",
     "output_type": "stream",
     "text": [
      "Respondent Name                      0.000000\n",
      "AOI Label                            0.000000\n",
      "Study Name                           0.000000\n",
      "Saccade Duration Mean               26.200873\n",
      "Saccade Duration Std                26.200873\n",
      "Saccade Duration Median             26.200873\n",
      "Saccade Amplitude Mean              26.880155\n",
      "Saccade Amplitude Std               26.880155\n",
      "Saccade Amplitude Median            26.880155\n",
      "Saccade Peak Velocity Mean          26.200873\n",
      "Saccade Peak Velocity Std           26.200873\n",
      "Saccade Peak Velocity Median        26.200873\n",
      "Saccade Peak Acceleration Mean      26.346434\n",
      "Saccade Peak Acceleration Std       26.346434\n",
      "Saccade Peak Acceleration Median    26.346434\n",
      "Saccade Peak Deceleration Mean      27.413877\n",
      "Saccade Peak Deceleration Std       27.413877\n",
      "Saccade Peak Deceleration Median    27.413877\n",
      "Saccade Count                        0.000000\n",
      "Label                                0.000000\n",
      "dtype: float64\n"
     ]
    }
   ],
   "source": [
    "# df_saccade = pd.read_csv(\"../data/finalized_data/saccade_filled/saccade_final_3seconds_2_filled.csv\")\n",
    "missing_percentage = (df_saccade.isnull().sum() / len(df_saccade)) * 100\n",
    "print(missing_percentage)"
   ]
  },
  {
   "cell_type": "code",
   "execution_count": 28,
   "metadata": {},
   "outputs": [
    {
     "ename": "ValueError",
     "evalue": "Covariance of x singular!",
     "output_type": "error",
     "traceback": [
      "\u001b[0;31m---------------------------------------------------------------------------\u001b[0m",
      "\u001b[0;31mValueError\u001b[0m                                Traceback (most recent call last)",
      "Cell \u001b[0;32mIn[28], line 2\u001b[0m\n\u001b[1;32m      1\u001b[0m \u001b[39m# Perform MANOVA using multiple dependent variables\u001b[39;00m\n\u001b[0;32m----> 2\u001b[0m manova \u001b[39m=\u001b[39m MANOVA\u001b[39m.\u001b[39;49mfrom_formula(\u001b[39m'\u001b[39;49m\u001b[39mQ(\u001b[39;49m\u001b[39m\"\u001b[39;49m\u001b[39mSaccade Amplitude Mean\u001b[39;49m\u001b[39m\"\u001b[39;49m\u001b[39m)+ Q(\u001b[39;49m\u001b[39m\"\u001b[39;49m\u001b[39mSaccade Peak Velocity Mean\u001b[39;49m\u001b[39m\"\u001b[39;49m\u001b[39m)+ Q(\u001b[39;49m\u001b[39m\"\u001b[39;49m\u001b[39mSaccade Peak Acceleration Mean\u001b[39;49m\u001b[39m\"\u001b[39;49m\u001b[39m)+ Q(\u001b[39;49m\u001b[39m\"\u001b[39;49m\u001b[39mSaccade Peak Deceleration Mean\u001b[39;49m\u001b[39m\"\u001b[39;49m\u001b[39m) + Q(\u001b[39;49m\u001b[39m\"\u001b[39;49m\u001b[39mSaccade Count\u001b[39;49m\u001b[39m\"\u001b[39;49m\u001b[39m) ~ Q(\u001b[39;49m\u001b[39m\"\u001b[39;49m\u001b[39mAOI Label\u001b[39;49m\u001b[39m\"\u001b[39;49m\u001b[39m)\u001b[39;49m\u001b[39m'\u001b[39;49m, data\u001b[39m=\u001b[39;49mdf_saccade)\n\u001b[1;32m      4\u001b[0m \u001b[39m# Show the MANOVA results\u001b[39;00m\n\u001b[1;32m      5\u001b[0m \u001b[39mprint\u001b[39m(manova\u001b[39m.\u001b[39mmv_test())\n",
      "File \u001b[0;32m~/opt/anaconda3/envs/pai/lib/python3.10/site-packages/statsmodels/base/model.py:229\u001b[0m, in \u001b[0;36mModel.from_formula\u001b[0;34m(cls, formula, data, subset, drop_cols, *args, **kwargs)\u001b[0m\n\u001b[1;32m    223\u001b[0m         design_info \u001b[39m=\u001b[39m design_info\u001b[39m.\u001b[39msubset(cols)\n\u001b[1;32m    225\u001b[0m kwargs\u001b[39m.\u001b[39mupdate({\u001b[39m'\u001b[39m\u001b[39mmissing_idx\u001b[39m\u001b[39m'\u001b[39m: missing_idx,\n\u001b[1;32m    226\u001b[0m                \u001b[39m'\u001b[39m\u001b[39mmissing\u001b[39m\u001b[39m'\u001b[39m: missing,\n\u001b[1;32m    227\u001b[0m                \u001b[39m'\u001b[39m\u001b[39mformula\u001b[39m\u001b[39m'\u001b[39m: formula,  \u001b[39m# attach formula for unpckling\u001b[39;00m\n\u001b[1;32m    228\u001b[0m                \u001b[39m'\u001b[39m\u001b[39mdesign_info\u001b[39m\u001b[39m'\u001b[39m: design_info})\n\u001b[0;32m--> 229\u001b[0m mod \u001b[39m=\u001b[39m \u001b[39mcls\u001b[39;49m(endog, exog, \u001b[39m*\u001b[39;49margs, \u001b[39m*\u001b[39;49m\u001b[39m*\u001b[39;49mkwargs)\n\u001b[1;32m    230\u001b[0m mod\u001b[39m.\u001b[39mformula \u001b[39m=\u001b[39m formula\n\u001b[1;32m    231\u001b[0m \u001b[39m# since we got a dataframe, attach the original\u001b[39;00m\n",
      "File \u001b[0;32m~/opt/anaconda3/envs/pai/lib/python3.10/site-packages/statsmodels/multivariate/manova.py:67\u001b[0m, in \u001b[0;36mMANOVA.__init__\u001b[0;34m(self, endog, exog, missing, hasconst, **kwargs)\u001b[0m\n\u001b[1;32m     63\u001b[0m     \u001b[39mraise\u001b[39;00m \u001b[39mValueError\u001b[39;00m(\u001b[39m'\u001b[39m\u001b[39mThere must be more than one dependent variable\u001b[39m\u001b[39m'\u001b[39m\n\u001b[1;32m     64\u001b[0m                      \u001b[39m'\u001b[39m\u001b[39m to fit MANOVA!\u001b[39m\u001b[39m'\u001b[39m)\n\u001b[1;32m     65\u001b[0m \u001b[39msuper\u001b[39m(MANOVA, \u001b[39mself\u001b[39m)\u001b[39m.\u001b[39m\u001b[39m__init__\u001b[39m(endog, exog, missing\u001b[39m=\u001b[39mmissing,\n\u001b[1;32m     66\u001b[0m                              hasconst\u001b[39m=\u001b[39mhasconst, \u001b[39m*\u001b[39m\u001b[39m*\u001b[39mkwargs)\n\u001b[0;32m---> 67\u001b[0m \u001b[39mself\u001b[39m\u001b[39m.\u001b[39m_fittedmod \u001b[39m=\u001b[39m _multivariate_ols_fit(\u001b[39mself\u001b[39;49m\u001b[39m.\u001b[39;49mendog, \u001b[39mself\u001b[39;49m\u001b[39m.\u001b[39;49mexog)\n",
      "File \u001b[0;32m~/opt/anaconda3/envs/pai/lib/python3.10/site-packages/statsmodels/multivariate/multivariate_ols.py:115\u001b[0m, in \u001b[0;36m_multivariate_ols_fit\u001b[0;34m(endog, exog, method, tolerance)\u001b[0m\n\u001b[1;32m    113\u001b[0m u, s, v \u001b[39m=\u001b[39m svd(x, \u001b[39m0\u001b[39m)\n\u001b[1;32m    114\u001b[0m \u001b[39mif\u001b[39;00m (s \u001b[39m>\u001b[39m tolerance)\u001b[39m.\u001b[39msum() \u001b[39m<\u001b[39m \u001b[39mlen\u001b[39m(s):\n\u001b[0;32m--> 115\u001b[0m     \u001b[39mraise\u001b[39;00m \u001b[39mValueError\u001b[39;00m(\u001b[39m'\u001b[39m\u001b[39mCovariance of x singular!\u001b[39m\u001b[39m'\u001b[39m)\n\u001b[1;32m    116\u001b[0m invs \u001b[39m=\u001b[39m \u001b[39m1.\u001b[39m \u001b[39m/\u001b[39m s\n\u001b[1;32m    118\u001b[0m params \u001b[39m=\u001b[39m v\u001b[39m.\u001b[39mT\u001b[39m.\u001b[39mdot(np\u001b[39m.\u001b[39mdiag(invs))\u001b[39m.\u001b[39mdot(u\u001b[39m.\u001b[39mT)\u001b[39m.\u001b[39mdot(y)\n",
      "\u001b[0;31mValueError\u001b[0m: Covariance of x singular!"
     ]
    }
   ],
   "source": [
    "# Perform MANOVA using multiple dependent variables\n",
    "manova = MANOVA.from_formula('Q(\"Saccade Amplitude Mean\")+ Q(\"Saccade Peak Velocity Mean\")+ Q(\"Saccade Peak Acceleration Mean\")+ Q(\"Saccade Peak Deceleration Mean\") + Q(\"Saccade Count\") ~ Q(\"AOI Label\")', data=df_saccade)\n",
    "\n",
    "# Show the MANOVA results\n",
    "print(manova.mv_test())"
   ]
  },
  {
   "cell_type": "code",
   "execution_count": 18,
   "metadata": {},
   "outputs": [
    {
     "name": "stdout",
     "output_type": "stream",
     "text": [
      "                   Multivariate linear model\n",
      "================================================================\n",
      "                                                                \n",
      "----------------------------------------------------------------\n",
      "         Intercept        Value  Num DF   Den DF  F Value Pr > F\n",
      "----------------------------------------------------------------\n",
      "            Wilks' lambda 0.8694 5.0000 1768.0000 53.1362 0.0000\n",
      "           Pillai's trace 0.1306 5.0000 1768.0000 53.1362 0.0000\n",
      "   Hotelling-Lawley trace 0.1503 5.0000 1768.0000 53.1362 0.0000\n",
      "      Roy's greatest root 0.1503 5.0000 1768.0000 53.1362 0.0000\n",
      "----------------------------------------------------------------\n",
      "                                                                \n",
      "----------------------------------------------------------------\n",
      "     Q(\"AOI Label\")     Value   Num DF    Den DF  F Value Pr > F\n",
      "----------------------------------------------------------------\n",
      "          Wilks' lambda 0.8513 240.0000 8807.0310  1.2063 0.0171\n",
      "         Pillai's trace 0.1578 240.0000 8860.0000  1.2034 0.0183\n",
      " Hotelling-Lawley trace 0.1643 240.0000 7893.7883  1.2092 0.0161\n",
      "    Roy's greatest root 0.0601  48.0000 1772.0000  2.2194 0.0000\n",
      "================================================================\n",
      "\n"
     ]
    }
   ],
   "source": [
    "# Perform MANOVA using multiple dependent variables\n",
    "manova = MANOVA.from_formula('Q(\"Saccade Amplitude Std\")+ Q(\"Saccade Peak Velocity Std\")+ Q(\"Saccade Peak Acceleration Std\")+ Q(\"Saccade Peak Deceleration Std\") + Q(\"Saccade Count\") ~ Q(\"AOI Label\")', data=df)\n",
    "\n",
    "# Show the MANOVA results\n",
    "print(manova.mv_test())"
   ]
  },
  {
   "cell_type": "code",
   "execution_count": 30,
   "metadata": {},
   "outputs": [
    {
     "name": "stdout",
     "output_type": "stream",
     "text": [
      "ANOVA result for Saccade Duration Mean: F-statistic = 5.328, p-value = 2.112e-02\n",
      "ANOVA result for Saccade Duration Std: F-statistic = 6.080, p-value = 1.378e-02\n",
      "ANOVA result for Saccade Duration Median: F-statistic = 4.601, p-value = 3.210e-02\n",
      "ANOVA result for Saccade Amplitude Mean: F-statistic = 4.705, p-value = 3.023e-02\n",
      "ANOVA result for Saccade Amplitude Std: F-statistic = 4.835, p-value = 2.804e-02\n",
      "ANOVA result for Saccade Amplitude Median: F-statistic = 7.150, p-value = 7.578e-03\n",
      "ANOVA result for Saccade Peak Velocity Mean: F-statistic = 10.361, p-value = 1.314e-03\n",
      "ANOVA result for Saccade Peak Velocity Std: F-statistic = 2.992, p-value = 8.388e-02\n",
      "ANOVA result for Saccade Peak Velocity Median: F-statistic = 8.292, p-value = 4.038e-03\n",
      "ANOVA result for Saccade Peak Acceleration Mean: F-statistic = 8.496, p-value = 3.612e-03\n",
      "ANOVA result for Saccade Peak Acceleration Std: F-statistic = 6.466, p-value = 1.110e-02\n",
      "ANOVA result for Saccade Peak Acceleration Median: F-statistic = 8.274, p-value = 4.077e-03\n",
      "ANOVA result for Saccade Peak Deceleration Mean: F-statistic = 3.444, p-value = 6.369e-02\n",
      "ANOVA result for Saccade Peak Deceleration Std: F-statistic = 10.157, p-value = 1.468e-03\n",
      "ANOVA result for Saccade Peak Deceleration Median: F-statistic = 3.582, p-value = 5.862e-02\n",
      "ANOVA result for Saccade Count: F-statistic = 368.743, p-value = 9.910e-76\n",
      "\n",
      "2061\n",
      "total number of variables: 16\n",
      "total number of useful variables:  13\n",
      "['Saccade Duration Mean', 'Saccade Duration Std', 'Saccade Duration Median', 'Saccade Amplitude Mean', 'Saccade Amplitude Std', 'Saccade Amplitude Median', 'Saccade Peak Velocity Mean', 'Saccade Peak Velocity Median', 'Saccade Peak Acceleration Mean', 'Saccade Peak Acceleration Std', 'Saccade Peak Acceleration Median', 'Saccade Peak Deceleration Std', 'Saccade Count']\n"
     ]
    }
   ],
   "source": [
    "import scipy.stats as stats\n",
    "import numpy as np\n",
    "# Function to perform one-way ANOVA for a single dependent variable\n",
    "def run_anova(df, dependent_variable, use_variables, independent_variable='Label'):\n",
    "\n",
    "    # Ensure \"NA\" string values are converted to NaN\n",
    "    df[dependent_variable] = pd.to_numeric(df[dependent_variable], errors='coerce')  # Converts \"NA\" and invalid numbers to NaN\n",
    "\n",
    "    # Group the data by the independent variable\n",
    "    grouped_data = [\n",
    "        group[dependent_variable].dropna().values  # Drop NaNs & convert to array\n",
    "        for _, group in df.groupby(independent_variable)\n",
    "        if not group[dependent_variable].dropna().empty  # Ensure group is not empty\n",
    "    ]\n",
    "\n",
    "    # Ensure we have at least two non-empty groups for ANOVA\n",
    "    if len(grouped_data) < 2:\n",
    "        print(f\"Skipping {dependent_variable}: Not enough valid groups for ANOVA.\")\n",
    "        return use_variables\n",
    "\n",
    "    # Perform one-way ANOVA\n",
    "    f_stat, p_value = stats.f_oneway(*grouped_data)\n",
    "\n",
    "    # Append the variable if significant\n",
    "    if p_value <= 0.05:\n",
    "        use_variables.append(dependent_variable)\n",
    "\n",
    "    print(f\"ANOVA result for {dependent_variable}: F-statistic = {f_stat:.3f}, p-value = {p_value:.3e}\")\n",
    "    \n",
    "    return use_variables\n",
    "\n",
    "# List of dependent variables (saccade-related measures)\n",
    "dependent_variables = ['Fixation Counts', 'Average Fixation Dispersion',\n",
    "       'Median Fixation Dispersion', 'STD Fixation Dispersion',\n",
    "       'Average Fixation Duration', 'Median Fixation Duration',\n",
    "       'STD Fixation Duration', 'Saccade Duration Mean',\n",
    "       'Saccade Duration Std', 'Saccade Duration Median',\n",
    "       'Saccade Amplitude Mean', 'Saccade Amplitude Std',\n",
    "       'Saccade Amplitude Median', 'Saccade Peak Velocity Mean',\n",
    "       'Saccade Peak Velocity Std', 'Saccade Peak Velocity Median',\n",
    "       'Saccade Peak Acceleration Mean', 'Saccade Peak Acceleration Std',\n",
    "       'Saccade Peak Acceleration Median', 'Saccade Peak Deceleration Mean',\n",
    "       'Saccade Peak Deceleration Std', 'Saccade Peak Deceleration Median',\n",
    "       'Saccade Count', 'Mean Pupil Diameter Change',\n",
    "       'STD Pupil Diameter Change', 'Mean Gaze Velocity', 'STD Gaze Velocity',\n",
    "       'avg_velocity', 'sd_velocity', 'med_velocity', 'avg_acceleration',\n",
    "       'sd_acceleration', 'med_acceleration', 'avg_jerk', 'sd_jerk',\n",
    "       'med_jerk', 'Distance']\n",
    "\n",
    "saccade_variables = ['Saccade Duration Mean',\n",
    "       'Saccade Duration Std', 'Saccade Duration Median',\n",
    "       'Saccade Amplitude Mean', 'Saccade Amplitude Std',\n",
    "       'Saccade Amplitude Median', 'Saccade Peak Velocity Mean',\n",
    "       'Saccade Peak Velocity Std', 'Saccade Peak Velocity Median',\n",
    "       'Saccade Peak Acceleration Mean', 'Saccade Peak Acceleration Std',\n",
    "       'Saccade Peak Acceleration Median', 'Saccade Peak Deceleration Mean',\n",
    "       'Saccade Peak Deceleration Std', 'Saccade Peak Deceleration Median',\n",
    "       'Saccade Count']\n",
    "\n",
    "fixation_variables = ['Fixation Counts', 'Average Fixation Dispersion',\n",
    "       'Median Fixation Dispersion', 'STD Fixation Dispersion',\n",
    "       'Average Fixation Duration', 'Median Fixation Duration',\n",
    "       'STD Fixation Duration']\n",
    "\n",
    "# Run ANOVA for each dependent variable\n",
    "# use_variables = []\n",
    "\n",
    "# for variable in dependent_variables:\n",
    "#     use = run_anova(df_saccade, variable, use_variables)\n",
    "\n",
    "# print(\"\")\n",
    "# print(use)\n",
    "# print(len(df_filtered))\n",
    "# print(\"total number of variables:\" ,len(dependent_variables))\n",
    "# print(\"total number of useful variables: \", len(use))\n",
    "\n",
    "use_saccade_variables = []\n",
    "for variable in saccade_variables:\n",
    "    use_saccade = run_anova(df_saccade, variable, use_saccade_variables, \"Label\")\n",
    "print(\"\")\n",
    "print(len(df_saccade))\n",
    "# print(use_saccade)\n",
    "print(\"total number of variables:\" ,len(saccade_variables))\n",
    "print(\"total number of useful variables: \", len(use_saccade))\n",
    "print(use_saccade)\n",
    "# use_fixation_variables = []\n",
    "# for variable in fixation_variables:\n",
    "#     use_fixation = run_anova(df_fixation_filtered, variable, use_fixation_variables, \"Label\")\n",
    "# print(\"\")\n",
    "# print(len(df_fixation_filtered))\n",
    "# print(use_fixation)\n",
    "# print(\"total number of variables:\" ,len(fixation_variables))\n",
    "# print(\"total number of useful variables: \", len(use_fixation))\n",
    "\n",
    "#Study Name,Respondent Name,Start,End,Label\n",
    "# use =[\"Label\", \"Study Name\",\"Respondent Name\", \"End\", \"Start\"]+use"
   ]
  },
  {
   "cell_type": "code",
   "execution_count": 4,
   "metadata": {},
   "outputs": [
    {
     "ename": "NameError",
     "evalue": "name 'df' is not defined",
     "output_type": "error",
     "traceback": [
      "\u001b[0;31m---------------------------------------------------------------------------\u001b[0m",
      "\u001b[0;31mNameError\u001b[0m                                 Traceback (most recent call last)",
      "Cell \u001b[0;32mIn[4], line 23\u001b[0m\n\u001b[1;32m     10\u001b[0m     \u001b[39mprint\u001b[39m(\u001b[39mf\u001b[39m\u001b[39m\"\u001b[39m\u001b[39mANOVA result for \u001b[39m\u001b[39m{\u001b[39;00mdependent_variable\u001b[39m}\u001b[39;00m\u001b[39m: F-statistic = \u001b[39m\u001b[39m{\u001b[39;00mf_stat\u001b[39m}\u001b[39;00m\u001b[39m, p-value = \u001b[39m\u001b[39m{\u001b[39;00mp_value\u001b[39m}\u001b[39;00m\u001b[39m\"\u001b[39m)\n\u001b[1;32m     13\u001b[0m saccade_variables \u001b[39m=\u001b[39m [\u001b[39m'\u001b[39m\u001b[39mSaccade Duration Mean\u001b[39m\u001b[39m'\u001b[39m,\n\u001b[1;32m     14\u001b[0m        \u001b[39m'\u001b[39m\u001b[39mSaccade Duration Std\u001b[39m\u001b[39m'\u001b[39m, \u001b[39m'\u001b[39m\u001b[39mSaccade Duration Median\u001b[39m\u001b[39m'\u001b[39m,\n\u001b[1;32m     15\u001b[0m        \u001b[39m'\u001b[39m\u001b[39mSaccade Amplitude Mean\u001b[39m\u001b[39m'\u001b[39m, \u001b[39m'\u001b[39m\u001b[39mSaccade Amplitude Std\u001b[39m\u001b[39m'\u001b[39m,\n\u001b[0;32m   (...)\u001b[0m\n\u001b[1;32m     20\u001b[0m        \u001b[39m'\u001b[39m\u001b[39mSaccade Peak Deceleration Std\u001b[39m\u001b[39m'\u001b[39m, \u001b[39m'\u001b[39m\u001b[39mSaccade Peak Deceleration Median\u001b[39m\u001b[39m'\u001b[39m,\n\u001b[1;32m     21\u001b[0m        \u001b[39m'\u001b[39m\u001b[39mSaccade Count\u001b[39m\u001b[39m'\u001b[39m]\n\u001b[0;32m---> 23\u001b[0m run_anova(\u001b[39m\"\u001b[39;49m\u001b[39mDistance\u001b[39;49m\u001b[39m\"\u001b[39;49m)\n",
      "Cell \u001b[0;32mIn[4], line 5\u001b[0m, in \u001b[0;36mrun_anova\u001b[0;34m(dependent_variable, independent_variable)\u001b[0m\n\u001b[1;32m      3\u001b[0m \u001b[39mdef\u001b[39;00m \u001b[39mrun_anova\u001b[39m(dependent_variable, independent_variable\u001b[39m=\u001b[39m\u001b[39m'\u001b[39m\u001b[39mLabel\u001b[39m\u001b[39m'\u001b[39m):\n\u001b[1;32m      4\u001b[0m     \u001b[39m# Group the data by the independent variable (AOI Label)\u001b[39;00m\n\u001b[0;32m----> 5\u001b[0m     grouped_data \u001b[39m=\u001b[39m [group[dependent_variable]\u001b[39m.\u001b[39mdropna() \u001b[39mfor\u001b[39;00m name, group \u001b[39min\u001b[39;00m df\u001b[39m.\u001b[39mgroupby(independent_variable)]\n\u001b[1;32m      7\u001b[0m     \u001b[39m# Perform one-way ANOVA\u001b[39;00m\n\u001b[1;32m      8\u001b[0m     f_stat, p_value \u001b[39m=\u001b[39m stats\u001b[39m.\u001b[39mf_oneway(\u001b[39m*\u001b[39mgrouped_data)\n",
      "\u001b[0;31mNameError\u001b[0m: name 'df' is not defined"
     ]
    }
   ],
   "source": [
    "import scipy.stats as stats\n",
    "# Function to perform one-way ANOVA for a single dependent variable\n",
    "def run_anova(dependent_variable, independent_variable='Label'):\n",
    "    # Group the data by the independent variable (AOI Label)\n",
    "    grouped_data = [group[dependent_variable].dropna() for name, group in df.groupby(independent_variable)]\n",
    "    \n",
    "    # Perform one-way ANOVA\n",
    "    f_stat, p_value = stats.f_oneway(*grouped_data)\n",
    "    \n",
    "    print(f\"ANOVA result for {dependent_variable}: F-statistic = {f_stat}, p-value = {p_value}\")\n",
    "\n",
    "\n",
    "saccade_variables = ['Saccade Duration Mean',\n",
    "       'Saccade Duration Std', 'Saccade Duration Median',\n",
    "       'Saccade Amplitude Mean', 'Saccade Amplitude Std',\n",
    "       'Saccade Amplitude Median', 'Saccade Peak Velocity Mean',\n",
    "       'Saccade Peak Velocity Std', 'Saccade Peak Velocity Median',\n",
    "       'Saccade Peak Acceleration Mean', 'Saccade Peak Acceleration Std',\n",
    "       'Saccade Peak Acceleration Median', 'Saccade Peak Deceleration Mean',\n",
    "       'Saccade Peak Deceleration Std', 'Saccade Peak Deceleration Median',\n",
    "       'Saccade Count']\n",
    "\n",
    "run_anova(\"Distance\")\n"
   ]
  },
  {
   "cell_type": "code",
   "execution_count": 17,
   "metadata": {},
   "outputs": [],
   "source": [
    "df = df.filter(items=use)\n",
    "df.to_csv(\"filtered_merged_data.csv\", index=False)"
   ]
  }
 ],
 "metadata": {
  "kernelspec": {
   "display_name": "pai",
   "language": "python",
   "name": "python3"
  },
  "language_info": {
   "codemirror_mode": {
    "name": "ipython",
    "version": 3
   },
   "file_extension": ".py",
   "mimetype": "text/x-python",
   "name": "python",
   "nbconvert_exporter": "python",
   "pygments_lexer": "ipython3",
   "version": "3.10.15"
  },
  "orig_nbformat": 4,
  "vscode": {
   "interpreter": {
    "hash": "2c229cd6ff87d19ea7d47541bfa1b62a250f965db58eb2430f02bd66bc83489c"
   }
  }
 },
 "nbformat": 4,
 "nbformat_minor": 2
}
